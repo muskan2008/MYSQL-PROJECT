{
 "cells": [
  {
   "cell_type": "markdown",
   "metadata": {},
   "source": [
    "## Create a vector of length 4 using seq() function and showcase how to access the elements using numeric indexes, logical indexes and character indexes"
   ]
  },
  {
   "cell_type": "code",
   "execution_count": 1,
   "metadata": {},
   "outputs": [
    {
     "data": {
      "text/html": [
       "<style>\n",
       ".list-inline {list-style: none; margin:0; padding: 0}\n",
       ".list-inline>li {display: inline-block}\n",
       ".list-inline>li:not(:last-child)::after {content: \"\\00b7\"; padding: 0 .5ex}\n",
       "</style>\n",
       "<ol class=list-inline><li>1</li><li>4</li><li>7</li><li>10</li></ol>\n"
      ],
      "text/latex": [
       "\\begin{enumerate*}\n",
       "\\item 1\n",
       "\\item 4\n",
       "\\item 7\n",
       "\\item 10\n",
       "\\end{enumerate*}\n"
      ],
      "text/markdown": [
       "1. 1\n",
       "2. 4\n",
       "3. 7\n",
       "4. 10\n",
       "\n",
       "\n"
      ],
      "text/plain": [
       "[1]  1  4  7 10"
      ]
     },
     "metadata": {},
     "output_type": "display_data"
    }
   ],
   "source": [
    "seq(1,10, length.out = 4)"
   ]
  },
  {
   "cell_type": "code",
   "execution_count": 2,
   "metadata": {},
   "outputs": [
    {
     "data": {
      "text/html": [
       "2"
      ],
      "text/latex": [
       "2"
      ],
      "text/markdown": [
       "2"
      ],
      "text/plain": [
       "[1] 2"
      ]
     },
     "metadata": {},
     "output_type": "display_data"
    }
   ],
   "source": [
    "x = c(1,2,3,4)\n",
    "x[2]"
   ]
  },
  {
   "cell_type": "code",
   "execution_count": 3,
   "metadata": {},
   "outputs": [
    {
     "data": {
      "text/html": [
       "<strong>Two:</strong> 2"
      ],
      "text/latex": [
       "\\textbf{Two:} 2"
      ],
      "text/markdown": [
       "**Two:** 2"
      ],
      "text/plain": [
       "Two \n",
       "  2 "
      ]
     },
     "metadata": {},
     "output_type": "display_data"
    }
   ],
   "source": [
    "x <- c(\"One\" = 1, \"Two\" = 2, \"Three\" = 3)\n",
    "x[\"Two\"]"
   ]
  },
  {
   "cell_type": "code",
   "execution_count": 4,
   "metadata": {},
   "outputs": [
    {
     "data": {
      "text/html": [
       "<style>\n",
       ".list-inline {list-style: none; margin:0; padding: 0}\n",
       ".list-inline>li {display: inline-block}\n",
       ".list-inline>li:not(:last-child)::after {content: \"\\00b7\"; padding: 0 .5ex}\n",
       "</style>\n",
       "<ol class=list-inline><li>1</li><li>3</li></ol>\n"
      ],
      "text/latex": [
       "\\begin{enumerate*}\n",
       "\\item 1\n",
       "\\item 3\n",
       "\\end{enumerate*}\n"
      ],
      "text/markdown": [
       "1. 1\n",
       "2. 3\n",
       "\n",
       "\n"
      ],
      "text/plain": [
       "[1] 1 3"
      ]
     },
     "metadata": {},
     "output_type": "display_data"
    }
   ],
   "source": [
    "a <- c(1,2,3,4)\n",
    "a[c(TRUE, FALSE, TRUE, FALSE)]"
   ]
  },
  {
   "cell_type": "markdown",
   "metadata": {},
   "source": [
    "## Load the in-built dataset called trees, that consists of measurements of the girth, height, and volume of 31 black cherry trees and display rows where height is greater than 82"
   ]
  },
  {
   "cell_type": "code",
   "execution_count": 5,
   "metadata": {},
   "outputs": [
    {
     "data": {
      "text/html": [
       "<table class=\"dataframe\">\n",
       "<caption>A data.frame: 4 × 3</caption>\n",
       "<thead>\n",
       "\t<tr><th></th><th scope=col>Girth</th><th scope=col>Height</th><th scope=col>Volume</th></tr>\n",
       "\t<tr><th></th><th scope=col>&lt;dbl&gt;</th><th scope=col>&lt;dbl&gt;</th><th scope=col>&lt;dbl&gt;</th></tr>\n",
       "</thead>\n",
       "<tbody>\n",
       "\t<tr><th scope=row>6</th><td>10.8</td><td>83</td><td>19.7</td></tr>\n",
       "\t<tr><th scope=row>17</th><td>12.9</td><td>85</td><td>33.8</td></tr>\n",
       "\t<tr><th scope=row>18</th><td>13.3</td><td>86</td><td>27.4</td></tr>\n",
       "\t<tr><th scope=row>31</th><td>20.6</td><td>87</td><td>77.0</td></tr>\n",
       "</tbody>\n",
       "</table>\n"
      ],
      "text/latex": [
       "A data.frame: 4 × 3\n",
       "\\begin{tabular}{r|lll}\n",
       "  & Girth & Height & Volume\\\\\n",
       "  & <dbl> & <dbl> & <dbl>\\\\\n",
       "\\hline\n",
       "\t6 & 10.8 & 83 & 19.7\\\\\n",
       "\t17 & 12.9 & 85 & 33.8\\\\\n",
       "\t18 & 13.3 & 86 & 27.4\\\\\n",
       "\t31 & 20.6 & 87 & 77.0\\\\\n",
       "\\end{tabular}\n"
      ],
      "text/markdown": [
       "\n",
       "A data.frame: 4 × 3\n",
       "\n",
       "| <!--/--> | Girth &lt;dbl&gt; | Height &lt;dbl&gt; | Volume &lt;dbl&gt; |\n",
       "|---|---|---|---|\n",
       "| 6 | 10.8 | 83 | 19.7 |\n",
       "| 17 | 12.9 | 85 | 33.8 |\n",
       "| 18 | 13.3 | 86 | 27.4 |\n",
       "| 31 | 20.6 | 87 | 77.0 |\n",
       "\n"
      ],
      "text/plain": [
       "   Girth Height Volume\n",
       "6  10.8  83     19.7  \n",
       "17 12.9  85     33.8  \n",
       "18 13.3  86     27.4  \n",
       "31 20.6  87     77.0  "
      ]
     },
     "metadata": {},
     "output_type": "display_data"
    }
   ],
   "source": [
    "subset(trees, Height > 82)"
   ]
  },
  {
   "cell_type": "markdown",
   "metadata": {},
   "source": [
    "## Analyze the student’s performance in exams and write your own observations about the students and plot the results"
   ]
  },
  {
   "cell_type": "code",
   "execution_count": 6,
   "metadata": {},
   "outputs": [
    {
     "data": {
      "text/html": [
       "<table class=\"dataframe\">\n",
       "<caption>A data.frame: 6 × 8</caption>\n",
       "<thead>\n",
       "\t<tr><th></th><th scope=col>gender</th><th scope=col>race.ethnicity</th><th scope=col>parental.level.of.education</th><th scope=col>lunch</th><th scope=col>test.preparation.course</th><th scope=col>math.score</th><th scope=col>reading.score</th><th scope=col>writing.score</th></tr>\n",
       "\t<tr><th></th><th scope=col>&lt;chr&gt;</th><th scope=col>&lt;chr&gt;</th><th scope=col>&lt;chr&gt;</th><th scope=col>&lt;chr&gt;</th><th scope=col>&lt;chr&gt;</th><th scope=col>&lt;int&gt;</th><th scope=col>&lt;int&gt;</th><th scope=col>&lt;int&gt;</th></tr>\n",
       "</thead>\n",
       "<tbody>\n",
       "\t<tr><th scope=row>1</th><td>female</td><td>group B</td><td>bachelor's degree </td><td>standard    </td><td>none     </td><td>72</td><td>72</td><td>74</td></tr>\n",
       "\t<tr><th scope=row>2</th><td>female</td><td>group C</td><td>some college      </td><td>standard    </td><td>completed</td><td>69</td><td>90</td><td>88</td></tr>\n",
       "\t<tr><th scope=row>3</th><td>female</td><td>group B</td><td>master's degree   </td><td>standard    </td><td>none     </td><td>90</td><td>95</td><td>93</td></tr>\n",
       "\t<tr><th scope=row>4</th><td>male  </td><td>group A</td><td>associate's degree</td><td>free/reduced</td><td>none     </td><td>47</td><td>57</td><td>44</td></tr>\n",
       "\t<tr><th scope=row>5</th><td>male  </td><td>group C</td><td>some college      </td><td>standard    </td><td>none     </td><td>76</td><td>78</td><td>75</td></tr>\n",
       "\t<tr><th scope=row>6</th><td>female</td><td>group B</td><td>associate's degree</td><td>standard    </td><td>none     </td><td>71</td><td>83</td><td>78</td></tr>\n",
       "</tbody>\n",
       "</table>\n"
      ],
      "text/latex": [
       "A data.frame: 6 × 8\n",
       "\\begin{tabular}{r|llllllll}\n",
       "  & gender & race.ethnicity & parental.level.of.education & lunch & test.preparation.course & math.score & reading.score & writing.score\\\\\n",
       "  & <chr> & <chr> & <chr> & <chr> & <chr> & <int> & <int> & <int>\\\\\n",
       "\\hline\n",
       "\t1 & female & group B & bachelor's degree  & standard     & none      & 72 & 72 & 74\\\\\n",
       "\t2 & female & group C & some college       & standard     & completed & 69 & 90 & 88\\\\\n",
       "\t3 & female & group B & master's degree    & standard     & none      & 90 & 95 & 93\\\\\n",
       "\t4 & male   & group A & associate's degree & free/reduced & none      & 47 & 57 & 44\\\\\n",
       "\t5 & male   & group C & some college       & standard     & none      & 76 & 78 & 75\\\\\n",
       "\t6 & female & group B & associate's degree & standard     & none      & 71 & 83 & 78\\\\\n",
       "\\end{tabular}\n"
      ],
      "text/markdown": [
       "\n",
       "A data.frame: 6 × 8\n",
       "\n",
       "| <!--/--> | gender &lt;chr&gt; | race.ethnicity &lt;chr&gt; | parental.level.of.education &lt;chr&gt; | lunch &lt;chr&gt; | test.preparation.course &lt;chr&gt; | math.score &lt;int&gt; | reading.score &lt;int&gt; | writing.score &lt;int&gt; |\n",
       "|---|---|---|---|---|---|---|---|---|\n",
       "| 1 | female | group B | bachelor's degree  | standard     | none      | 72 | 72 | 74 |\n",
       "| 2 | female | group C | some college       | standard     | completed | 69 | 90 | 88 |\n",
       "| 3 | female | group B | master's degree    | standard     | none      | 90 | 95 | 93 |\n",
       "| 4 | male   | group A | associate's degree | free/reduced | none      | 47 | 57 | 44 |\n",
       "| 5 | male   | group C | some college       | standard     | none      | 76 | 78 | 75 |\n",
       "| 6 | female | group B | associate's degree | standard     | none      | 71 | 83 | 78 |\n",
       "\n"
      ],
      "text/plain": [
       "  gender race.ethnicity parental.level.of.education lunch       \n",
       "1 female group B        bachelor's degree           standard    \n",
       "2 female group C        some college                standard    \n",
       "3 female group B        master's degree             standard    \n",
       "4 male   group A        associate's degree          free/reduced\n",
       "5 male   group C        some college                standard    \n",
       "6 female group B        associate's degree          standard    \n",
       "  test.preparation.course math.score reading.score writing.score\n",
       "1 none                    72         72            74           \n",
       "2 completed               69         90            88           \n",
       "3 none                    90         95            93           \n",
       "4 none                    47         57            44           \n",
       "5 none                    76         78            75           \n",
       "6 none                    71         83            78           "
      ]
     },
     "metadata": {},
     "output_type": "display_data"
    }
   ],
   "source": [
    "df = read.csv(\"StudentsPerformance.csv\")\n",
    "head(df)"
   ]
  },
  {
   "cell_type": "code",
   "execution_count": 7,
   "metadata": {},
   "outputs": [
    {
     "data": {
      "text/html": [
       "FALSE"
      ],
      "text/latex": [
       "FALSE"
      ],
      "text/markdown": [
       "FALSE"
      ],
      "text/plain": [
       "[1] FALSE"
      ]
     },
     "metadata": {},
     "output_type": "display_data"
    }
   ],
   "source": [
    "any(is.na(df))"
   ]
  },
  {
   "cell_type": "code",
   "execution_count": 8,
   "metadata": {},
   "outputs": [
    {
     "data": {
      "text/plain": [
       "    gender          race.ethnicity     parental.level.of.education\n",
       " Length:1000        Length:1000        Length:1000                \n",
       " Class :character   Class :character   Class :character           \n",
       " Mode  :character   Mode  :character   Mode  :character           \n",
       "                                                                  \n",
       "                                                                  \n",
       "                                                                  \n",
       "    lunch           test.preparation.course   math.score     reading.score   \n",
       " Length:1000        Length:1000             Min.   :  0.00   Min.   : 17.00  \n",
       " Class :character   Class :character        1st Qu.: 57.00   1st Qu.: 59.00  \n",
       " Mode  :character   Mode  :character        Median : 66.00   Median : 70.00  \n",
       "                                            Mean   : 66.09   Mean   : 69.17  \n",
       "                                            3rd Qu.: 77.00   3rd Qu.: 79.00  \n",
       "                                            Max.   :100.00   Max.   :100.00  \n",
       " writing.score   \n",
       " Min.   : 10.00  \n",
       " 1st Qu.: 57.75  \n",
       " Median : 69.00  \n",
       " Mean   : 68.05  \n",
       " 3rd Qu.: 79.00  \n",
       " Max.   :100.00  "
      ]
     },
     "metadata": {},
     "output_type": "display_data"
    }
   ],
   "source": [
    "summary(df)"
   ]
  },
  {
   "cell_type": "code",
   "execution_count": 9,
   "metadata": {},
   "outputs": [
    {
     "name": "stdout",
     "output_type": "stream",
     "text": [
      "'data.frame':\t1000 obs. of  8 variables:\n",
      " $ gender                     : chr  \"female\" \"female\" \"female\" \"male\" ...\n",
      " $ race.ethnicity             : chr  \"group B\" \"group C\" \"group B\" \"group A\" ...\n",
      " $ parental.level.of.education: chr  \"bachelor's degree\" \"some college\" \"master's degree\" \"associate's degree\" ...\n",
      " $ lunch                      : chr  \"standard\" \"standard\" \"standard\" \"free/reduced\" ...\n",
      " $ test.preparation.course    : chr  \"none\" \"completed\" \"none\" \"none\" ...\n",
      " $ math.score                 : int  72 69 90 47 76 71 88 40 64 38 ...\n",
      " $ reading.score              : int  72 90 95 57 78 83 95 43 64 60 ...\n",
      " $ writing.score              : int  74 88 93 44 75 78 92 39 67 50 ...\n"
     ]
    }
   ],
   "source": [
    "str(df)"
   ]
  },
  {
   "cell_type": "code",
   "execution_count": 10,
   "metadata": {},
   "outputs": [],
   "source": [
    "df$avg = (df$math.score + df$reading.score + df$writing.score) / 3"
   ]
  },
  {
   "cell_type": "code",
   "execution_count": 11,
   "metadata": {},
   "outputs": [],
   "source": [
    "df$result = ifelse(df$avg > 33, 'Pass', 'Fail')"
   ]
  },
  {
   "cell_type": "code",
   "execution_count": 12,
   "metadata": {},
   "outputs": [
    {
     "data": {
      "text/html": [
       "<table class=\"dataframe\">\n",
       "<caption>A data.frame: 6 × 10</caption>\n",
       "<thead>\n",
       "\t<tr><th></th><th scope=col>gender</th><th scope=col>race.ethnicity</th><th scope=col>parental.level.of.education</th><th scope=col>lunch</th><th scope=col>test.preparation.course</th><th scope=col>math.score</th><th scope=col>reading.score</th><th scope=col>writing.score</th><th scope=col>avg</th><th scope=col>result</th></tr>\n",
       "\t<tr><th></th><th scope=col>&lt;chr&gt;</th><th scope=col>&lt;chr&gt;</th><th scope=col>&lt;chr&gt;</th><th scope=col>&lt;chr&gt;</th><th scope=col>&lt;chr&gt;</th><th scope=col>&lt;int&gt;</th><th scope=col>&lt;int&gt;</th><th scope=col>&lt;int&gt;</th><th scope=col>&lt;dbl&gt;</th><th scope=col>&lt;chr&gt;</th></tr>\n",
       "</thead>\n",
       "<tbody>\n",
       "\t<tr><th scope=row>1</th><td>female</td><td>group B</td><td>bachelor's degree </td><td>standard    </td><td>none     </td><td>72</td><td>72</td><td>74</td><td>72.66667</td><td>Pass</td></tr>\n",
       "\t<tr><th scope=row>2</th><td>female</td><td>group C</td><td>some college      </td><td>standard    </td><td>completed</td><td>69</td><td>90</td><td>88</td><td>82.33333</td><td>Pass</td></tr>\n",
       "\t<tr><th scope=row>3</th><td>female</td><td>group B</td><td>master's degree   </td><td>standard    </td><td>none     </td><td>90</td><td>95</td><td>93</td><td>92.66667</td><td>Pass</td></tr>\n",
       "\t<tr><th scope=row>4</th><td>male  </td><td>group A</td><td>associate's degree</td><td>free/reduced</td><td>none     </td><td>47</td><td>57</td><td>44</td><td>49.33333</td><td>Pass</td></tr>\n",
       "\t<tr><th scope=row>5</th><td>male  </td><td>group C</td><td>some college      </td><td>standard    </td><td>none     </td><td>76</td><td>78</td><td>75</td><td>76.33333</td><td>Pass</td></tr>\n",
       "\t<tr><th scope=row>6</th><td>female</td><td>group B</td><td>associate's degree</td><td>standard    </td><td>none     </td><td>71</td><td>83</td><td>78</td><td>77.33333</td><td>Pass</td></tr>\n",
       "</tbody>\n",
       "</table>\n"
      ],
      "text/latex": [
       "A data.frame: 6 × 10\n",
       "\\begin{tabular}{r|llllllllll}\n",
       "  & gender & race.ethnicity & parental.level.of.education & lunch & test.preparation.course & math.score & reading.score & writing.score & avg & result\\\\\n",
       "  & <chr> & <chr> & <chr> & <chr> & <chr> & <int> & <int> & <int> & <dbl> & <chr>\\\\\n",
       "\\hline\n",
       "\t1 & female & group B & bachelor's degree  & standard     & none      & 72 & 72 & 74 & 72.66667 & Pass\\\\\n",
       "\t2 & female & group C & some college       & standard     & completed & 69 & 90 & 88 & 82.33333 & Pass\\\\\n",
       "\t3 & female & group B & master's degree    & standard     & none      & 90 & 95 & 93 & 92.66667 & Pass\\\\\n",
       "\t4 & male   & group A & associate's degree & free/reduced & none      & 47 & 57 & 44 & 49.33333 & Pass\\\\\n",
       "\t5 & male   & group C & some college       & standard     & none      & 76 & 78 & 75 & 76.33333 & Pass\\\\\n",
       "\t6 & female & group B & associate's degree & standard     & none      & 71 & 83 & 78 & 77.33333 & Pass\\\\\n",
       "\\end{tabular}\n"
      ],
      "text/markdown": [
       "\n",
       "A data.frame: 6 × 10\n",
       "\n",
       "| <!--/--> | gender &lt;chr&gt; | race.ethnicity &lt;chr&gt; | parental.level.of.education &lt;chr&gt; | lunch &lt;chr&gt; | test.preparation.course &lt;chr&gt; | math.score &lt;int&gt; | reading.score &lt;int&gt; | writing.score &lt;int&gt; | avg &lt;dbl&gt; | result &lt;chr&gt; |\n",
       "|---|---|---|---|---|---|---|---|---|---|---|\n",
       "| 1 | female | group B | bachelor's degree  | standard     | none      | 72 | 72 | 74 | 72.66667 | Pass |\n",
       "| 2 | female | group C | some college       | standard     | completed | 69 | 90 | 88 | 82.33333 | Pass |\n",
       "| 3 | female | group B | master's degree    | standard     | none      | 90 | 95 | 93 | 92.66667 | Pass |\n",
       "| 4 | male   | group A | associate's degree | free/reduced | none      | 47 | 57 | 44 | 49.33333 | Pass |\n",
       "| 5 | male   | group C | some college       | standard     | none      | 76 | 78 | 75 | 76.33333 | Pass |\n",
       "| 6 | female | group B | associate's degree | standard     | none      | 71 | 83 | 78 | 77.33333 | Pass |\n",
       "\n"
      ],
      "text/plain": [
       "  gender race.ethnicity parental.level.of.education lunch       \n",
       "1 female group B        bachelor's degree           standard    \n",
       "2 female group C        some college                standard    \n",
       "3 female group B        master's degree             standard    \n",
       "4 male   group A        associate's degree          free/reduced\n",
       "5 male   group C        some college                standard    \n",
       "6 female group B        associate's degree          standard    \n",
       "  test.preparation.course math.score reading.score writing.score avg     \n",
       "1 none                    72         72            74            72.66667\n",
       "2 completed               69         90            88            82.33333\n",
       "3 none                    90         95            93            92.66667\n",
       "4 none                    47         57            44            49.33333\n",
       "5 none                    76         78            75            76.33333\n",
       "6 none                    71         83            78            77.33333\n",
       "  result\n",
       "1 Pass  \n",
       "2 Pass  \n",
       "3 Pass  \n",
       "4 Pass  \n",
       "5 Pass  \n",
       "6 Pass  "
      ]
     },
     "metadata": {},
     "output_type": "display_data"
    }
   ],
   "source": [
    "head(df)"
   ]
  },
  {
   "cell_type": "code",
   "execution_count": 13,
   "metadata": {},
   "outputs": [
    {
     "data": {
      "image/png": "[encoded data removed]",
      "text/plain": [
       "plot without title"
      ]
     },
     "metadata": {
      "image/png": {
       "height": 420,
       "width": 420
      }
     },
     "output_type": "display_data"
    }
   ],
   "source": [
    "library(ggplot2)\n",
    "pl <- ggplot(df, aes(result))\n",
    "pl + geom_bar(aes(fill=result))"
   ]
  },
  {
   "cell_type": "markdown",
   "metadata": {},
   "source": [
    "## Create a function to remove outliers using the IQR method"
   ]
  },
  {
   "cell_type": "code",
   "execution_count": 14,
   "metadata": {},
   "outputs": [],
   "source": [
    "outlier = function(dataset,x) {\n",
    "  Q <- quantile(x, probs = c(0.25, 0.75), na.rm = FALSE)\n",
    "  iqr <- IQR(x)\n",
    "  up <- Q[2] + 1.5*iqr\n",
    "  low <- Q[1] - 1.5*iqr\n",
    "  eliminated <- subset(dataset, x > low & x < up)\n",
    "  return(eliminated)\n",
    "}\n",
    "\n",
    "df = outlier(df, df$math.score)\n",
    "df = outlier(df, df$reading.score)\n",
    "df = outlier(df, df$writing.score)"
   ]
  },
  {
   "cell_type": "code",
   "execution_count": 15,
   "metadata": {},
   "outputs": [
    {
     "data": {
      "text/html": [
       "984"
      ],
      "text/latex": [
       "984"
      ],
      "text/markdown": [
       "984"
      ],
      "text/plain": [
       "[1] 984"
      ]
     },
     "metadata": {},
     "output_type": "display_data"
    }
   ],
   "source": [
    "nrow(df)"
   ]
  },
  {
   "cell_type": "markdown",
   "metadata": {},
   "source": [
    "## Connect to the above database and convert all the tables into data frame"
   ]
  },
  {
   "cell_type": "code",
   "execution_count": 16,
   "metadata": {},
   "outputs": [],
   "source": [
    "library(\"RSQLite\")\n",
    "con <- dbConnect(drv=RSQLite::SQLite(), dbname=\"chinook.db\")"
   ]
  },
  {
   "cell_type": "code",
   "execution_count": 17,
   "metadata": {},
   "outputs": [],
   "source": [
    "tables <- dbListTables(con)\n",
    "tables <- tables[tables != \"sqlite_sequence\"]"
   ]
  },
  {
   "cell_type": "code",
   "execution_count": 18,
   "metadata": {},
   "outputs": [],
   "source": [
    "lDataFrames <- vector(\"list\", length=length(tables))"
   ]
  },
  {
   "cell_type": "code",
   "execution_count": 19,
   "metadata": {},
   "outputs": [],
   "source": [
    "for (i in seq(along=tables)) {\n",
    "  lDataFrames[[i]] <- dbGetQuery(conn=con, statement=paste(\"SELECT * FROM '\", tables[[i]], \"'\", sep=\"\"))\n",
    "}"
   ]
  },
  {
   "cell_type": "code",
   "execution_count": 20,
   "metadata": {},
   "outputs": [],
   "source": [
    "albums = as.data.frame(lDataFrames[1])\n",
    "artists = as.data.frame(lDataFrames[2])\n",
    "customers = as.data.frame(lDataFrames[3])\n",
    "employees=as.data.frame(lDataFrames[4])\n",
    "genres = as.data.frame(lDataFrames[5])\n",
    "invoice_items = as.data.frame(lDataFrames[6])\n",
    "invoices = as.data.frame(lDataFrames[7])\n",
    "media_types = as.data.frame(lDataFrames[8])\n",
    "playlist_track = as.data.frame(lDataFrames[9])\n",
    "playlists = as.data.frame(lDataFrames[10])\n",
    "sqlite_stat1 = as.data.frame(lDataFrames[11])\n",
    "tracks = as.data.frame(lDataFrames[12])"
   ]
  },
  {
   "cell_type": "markdown",
   "metadata": {},
   "source": [
    "## Print the different types of music available"
   ]
  },
  {
   "cell_type": "code",
   "execution_count": 21,
   "metadata": {},
   "outputs": [
    {
     "name": "stderr",
     "output_type": "stream",
     "text": [
      "Loading required package: gsubfn\n",
      "\n",
      "Loading required package: proto\n",
      "\n"
     ]
    },
    {
     "data": {
      "text/html": [
       "<table class=\"dataframe\">\n",
       "<caption>A data.frame: 25 × 1</caption>\n",
       "<thead>\n",
       "\t<tr><th scope=col>Name</th></tr>\n",
       "\t<tr><th scope=col>&lt;chr&gt;</th></tr>\n",
       "</thead>\n",
       "<tbody>\n",
       "\t<tr><td>Rock              </td></tr>\n",
       "\t<tr><td>Jazz              </td></tr>\n",
       "\t<tr><td>Metal             </td></tr>\n",
       "\t<tr><td>Alternative &amp; Punk</td></tr>\n",
       "\t<tr><td>Rock And Roll     </td></tr>\n",
       "\t<tr><td>Blues             </td></tr>\n",
       "\t<tr><td>Latin             </td></tr>\n",
       "\t<tr><td>Reggae            </td></tr>\n",
       "\t<tr><td>Pop               </td></tr>\n",
       "\t<tr><td>Soundtrack        </td></tr>\n",
       "\t<tr><td>Bossa Nova        </td></tr>\n",
       "\t<tr><td>Easy Listening    </td></tr>\n",
       "\t<tr><td>Heavy Metal       </td></tr>\n",
       "\t<tr><td><span style=white-space:pre-wrap>R&amp;B/Soul          </span></td></tr>\n",
       "\t<tr><td>Electronica/Dance </td></tr>\n",
       "\t<tr><td>World             </td></tr>\n",
       "\t<tr><td>Hip Hop/Rap       </td></tr>\n",
       "\t<tr><td>Science Fiction   </td></tr>\n",
       "\t<tr><td>TV Shows          </td></tr>\n",
       "\t<tr><td><span style=white-space:pre-wrap>Sci Fi &amp; Fantasy  </span></td></tr>\n",
       "\t<tr><td>Drama             </td></tr>\n",
       "\t<tr><td>Comedy            </td></tr>\n",
       "\t<tr><td>Alternative       </td></tr>\n",
       "\t<tr><td>Classical         </td></tr>\n",
       "\t<tr><td>Opera             </td></tr>\n",
       "</tbody>\n",
       "</table>\n"
      ],
      "text/latex": [
       "A data.frame: 25 × 1\n",
       "\\begin{tabular}{l}\n",
       " Name\\\\\n",
       " <chr>\\\\\n",
       "\\hline\n",
       "\t Rock              \\\\\n",
       "\t Jazz              \\\\\n",
       "\t Metal             \\\\\n",
       "\t Alternative \\& Punk\\\\\n",
       "\t Rock And Roll     \\\\\n",
       "\t Blues             \\\\\n",
       "\t Latin             \\\\\n",
       "\t Reggae            \\\\\n",
       "\t Pop               \\\\\n",
       "\t Soundtrack        \\\\\n",
       "\t Bossa Nova        \\\\\n",
       "\t Easy Listening    \\\\\n",
       "\t Heavy Metal       \\\\\n",
       "\t R\\&B/Soul          \\\\\n",
       "\t Electronica/Dance \\\\\n",
       "\t World             \\\\\n",
       "\t Hip Hop/Rap       \\\\\n",
       "\t Science Fiction   \\\\\n",
       "\t TV Shows          \\\\\n",
       "\t Sci Fi \\& Fantasy  \\\\\n",
       "\t Drama             \\\\\n",
       "\t Comedy            \\\\\n",
       "\t Alternative       \\\\\n",
       "\t Classical         \\\\\n",
       "\t Opera             \\\\\n",
       "\\end{tabular}\n"
      ],
      "text/markdown": [
       "\n",
       "A data.frame: 25 × 1\n",
       "\n",
       "| Name &lt;chr&gt; |\n",
       "|---|\n",
       "| Rock               |\n",
       "| Jazz               |\n",
       "| Metal              |\n",
       "| Alternative &amp; Punk |\n",
       "| Rock And Roll      |\n",
       "| Blues              |\n",
       "| Latin              |\n",
       "| Reggae             |\n",
       "| Pop                |\n",
       "| Soundtrack         |\n",
       "| Bossa Nova         |\n",
       "| Easy Listening     |\n",
       "| Heavy Metal        |\n",
       "| R&amp;B/Soul           |\n",
       "| Electronica/Dance  |\n",
       "| World              |\n",
       "| Hip Hop/Rap        |\n",
       "| Science Fiction    |\n",
       "| TV Shows           |\n",
       "| Sci Fi &amp; Fantasy   |\n",
       "| Drama              |\n",
       "| Comedy             |\n",
       "| Alternative        |\n",
       "| Classical          |\n",
       "| Opera              |\n",
       "\n"
      ],
      "text/plain": [
       "   Name              \n",
       "1  Rock              \n",
       "2  Jazz              \n",
       "3  Metal             \n",
       "4  Alternative & Punk\n",
       "5  Rock And Roll     \n",
       "6  Blues             \n",
       "7  Latin             \n",
       "8  Reggae            \n",
       "9  Pop               \n",
       "10 Soundtrack        \n",
       "11 Bossa Nova        \n",
       "12 Easy Listening    \n",
       "13 Heavy Metal       \n",
       "14 R&B/Soul          \n",
       "15 Electronica/Dance \n",
       "16 World             \n",
       "17 Hip Hop/Rap       \n",
       "18 Science Fiction   \n",
       "19 TV Shows          \n",
       "20 Sci Fi & Fantasy  \n",
       "21 Drama             \n",
       "22 Comedy            \n",
       "23 Alternative       \n",
       "24 Classical         \n",
       "25 Opera             "
      ]
     },
     "metadata": {},
     "output_type": "display_data"
    }
   ],
   "source": [
    "library(\"sqldf\")\n",
    "\n",
    "sqldf(\"Select Name from genres\")"
   ]
  },
  {
   "cell_type": "markdown",
   "metadata": {},
   "source": [
    "## List out all the artists from the entire database"
   ]
  },
  {
   "cell_type": "code",
   "execution_count": 22,
   "metadata": {},
   "outputs": [
    {
     "data": {
      "text/html": [
       "<table class=\"dataframe\">\n",
       "<caption>A data.frame: 275 × 1</caption>\n",
       "<thead>\n",
       "\t<tr><th scope=col>Name</th></tr>\n",
       "\t<tr><th scope=col>&lt;chr&gt;</th></tr>\n",
       "</thead>\n",
       "<tbody>\n",
       "\t<tr><td>AC/DC                          </td></tr>\n",
       "\t<tr><td>Accept                         </td></tr>\n",
       "\t<tr><td>Aerosmith                      </td></tr>\n",
       "\t<tr><td>Alanis Morissette              </td></tr>\n",
       "\t<tr><td>Alice In Chains                </td></tr>\n",
       "\t<tr><td>Antônio Carlos Jobim           </td></tr>\n",
       "\t<tr><td>Apocalyptica                   </td></tr>\n",
       "\t<tr><td>Audioslave                     </td></tr>\n",
       "\t<tr><td>BackBeat                       </td></tr>\n",
       "\t<tr><td>Billy Cobham                   </td></tr>\n",
       "\t<tr><td>Black Label Society            </td></tr>\n",
       "\t<tr><td>Black Sabbath                  </td></tr>\n",
       "\t<tr><td>Body Count                     </td></tr>\n",
       "\t<tr><td>Bruce Dickinson                </td></tr>\n",
       "\t<tr><td>Buddy Guy                      </td></tr>\n",
       "\t<tr><td>Caetano Veloso                 </td></tr>\n",
       "\t<tr><td>Chico Buarque                  </td></tr>\n",
       "\t<tr><td><span style=white-space:pre-wrap>Chico Science &amp; Nação Zumbi    </span></td></tr>\n",
       "\t<tr><td>Cidade Negra                   </td></tr>\n",
       "\t<tr><td>Cláudio Zoli                   </td></tr>\n",
       "\t<tr><td>Various Artists                </td></tr>\n",
       "\t<tr><td>Led Zeppelin                   </td></tr>\n",
       "\t<tr><td>Frank Zappa &amp; Captain Beefheart</td></tr>\n",
       "\t<tr><td>Marcos Valle                   </td></tr>\n",
       "\t<tr><td><span style=white-space:pre-wrap>Milton Nascimento &amp; Bebeto     </span></td></tr>\n",
       "\t<tr><td>Azymuth                        </td></tr>\n",
       "\t<tr><td>Gilberto Gil                   </td></tr>\n",
       "\t<tr><td>João Gilberto                  </td></tr>\n",
       "\t<tr><td>Bebel Gilberto                 </td></tr>\n",
       "\t<tr><td>Jorge Vercilo                  </td></tr>\n",
       "\t<tr><td>...</td></tr>\n",
       "\t<tr><td><span style=white-space:pre-wrap>Chor der Wiener Staatsoper, Herbert Von Karajan &amp; Wiener Philharmoniker           </span></td></tr>\n",
       "\t<tr><td>The King's Singers                                                                </td></tr>\n",
       "\t<tr><td><span style=white-space:pre-wrap>Berliner Philharmoniker &amp; Herbert Von Karajan                                     </span></td></tr>\n",
       "\t<tr><td><span style=white-space:pre-wrap>Sir Georg Solti, Sumi Jo &amp; Wiener Philharmoniker                                  </span></td></tr>\n",
       "\t<tr><td>Christopher O'Riley                                                               </td></tr>\n",
       "\t<tr><td>Fretwork                                                                          </td></tr>\n",
       "\t<tr><td>Amy Winehouse                                                                     </td></tr>\n",
       "\t<tr><td>Calexico                                                                          </td></tr>\n",
       "\t<tr><td><span style=white-space:pre-wrap>Otto Klemperer &amp; Philharmonia Orchestra                                           </span></td></tr>\n",
       "\t<tr><td>Yehudi Menuhin                                                                    </td></tr>\n",
       "\t<tr><td><span style=white-space:pre-wrap>Philharmonia Orchestra &amp; Sir Neville Marriner                                     </span></td></tr>\n",
       "\t<tr><td><span style=white-space:pre-wrap>Academy of St. Martin in the Fields, Sir Neville Marriner &amp; Thurston Dart         </span></td></tr>\n",
       "\t<tr><td><span style=white-space:pre-wrap>Les Arts Florissants &amp; William Christie                                           </span></td></tr>\n",
       "\t<tr><td>The 12 Cellists of The Berlin Philharmonic                                        </td></tr>\n",
       "\t<tr><td><span style=white-space:pre-wrap>Adrian Leaper &amp; Doreen de Feis                                                    </span></td></tr>\n",
       "\t<tr><td>Roger Norrington, London Classical Players                                        </td></tr>\n",
       "\t<tr><td><span style=white-space:pre-wrap>Charles Dutoit &amp; L'Orchestre Symphonique de Montréal                              </span></td></tr>\n",
       "\t<tr><td>Equale Brass Ensemble, John Eliot Gardiner &amp; Munich Monteverdi Orchestra and Choir</td></tr>\n",
       "\t<tr><td>Kent Nagano and Orchestre de l'Opéra de Lyon                                      </td></tr>\n",
       "\t<tr><td>Julian Bream                                                                      </td></tr>\n",
       "\t<tr><td>Martin Roscoe                                                                     </td></tr>\n",
       "\t<tr><td><span style=white-space:pre-wrap>Göteborgs Symfoniker &amp; Neeme Järvi                                                </span></td></tr>\n",
       "\t<tr><td>Itzhak Perlman                                                                    </td></tr>\n",
       "\t<tr><td>Michele Campanella                                                                </td></tr>\n",
       "\t<tr><td>Gerald Moore                                                                      </td></tr>\n",
       "\t<tr><td><span style=white-space:pre-wrap>Mela Tenenbaum, Pro Musica Prague &amp; Richard Kapp                                  </span></td></tr>\n",
       "\t<tr><td>Emerson String Quartet                                                            </td></tr>\n",
       "\t<tr><td>C. Monteverdi, Nigel Rogers - Chiaroscuro; London Baroque; London Cornett &amp; Sackbu</td></tr>\n",
       "\t<tr><td>Nash Ensemble                                                                     </td></tr>\n",
       "\t<tr><td>Philip Glass Ensemble                                                             </td></tr>\n",
       "</tbody>\n",
       "</table>\n"
      ],
      "text/latex": [
       "A data.frame: 275 × 1\n",
       "\\begin{tabular}{l}\n",
       " Name\\\\\n",
       " <chr>\\\\\n",
       "\\hline\n",
       "\t AC/DC                          \\\\\n",
       "\t Accept                         \\\\\n",
       "\t Aerosmith                      \\\\\n",
       "\t Alanis Morissette              \\\\\n",
       "\t Alice In Chains                \\\\\n",
       "\t Antônio Carlos Jobim           \\\\\n",
       "\t Apocalyptica                   \\\\\n",
       "\t Audioslave                     \\\\\n",
       "\t BackBeat                       \\\\\n",
       "\t Billy Cobham                   \\\\\n",
       "\t Black Label Society            \\\\\n",
       "\t Black Sabbath                  \\\\\n",
       "\t Body Count                     \\\\\n",
       "\t Bruce Dickinson                \\\\\n",
       "\t Buddy Guy                      \\\\\n",
       "\t Caetano Veloso                 \\\\\n",
       "\t Chico Buarque                  \\\\\n",
       "\t Chico Science \\& Nação Zumbi    \\\\\n",
       "\t Cidade Negra                   \\\\\n",
       "\t Cláudio Zoli                   \\\\\n",
       "\t Various Artists                \\\\\n",
       "\t Led Zeppelin                   \\\\\n",
       "\t Frank Zappa \\& Captain Beefheart\\\\\n",
       "\t Marcos Valle                   \\\\\n",
       "\t Milton Nascimento \\& Bebeto     \\\\\n",
       "\t Azymuth                        \\\\\n",
       "\t Gilberto Gil                   \\\\\n",
       "\t João Gilberto                  \\\\\n",
       "\t Bebel Gilberto                 \\\\\n",
       "\t Jorge Vercilo                  \\\\\n",
       "\t ...\\\\\n",
       "\t Chor der Wiener Staatsoper, Herbert Von Karajan \\& Wiener Philharmoniker           \\\\\n",
       "\t The King's Singers                                                                \\\\\n",
       "\t Berliner Philharmoniker \\& Herbert Von Karajan                                     \\\\\n",
       "\t Sir Georg Solti, Sumi Jo \\& Wiener Philharmoniker                                  \\\\\n",
       "\t Christopher O'Riley                                                               \\\\\n",
       "\t Fretwork                                                                          \\\\\n",
       "\t Amy Winehouse                                                                     \\\\\n",
       "\t Calexico                                                                          \\\\\n",
       "\t Otto Klemperer \\& Philharmonia Orchestra                                           \\\\\n",
       "\t Yehudi Menuhin                                                                    \\\\\n",
       "\t Philharmonia Orchestra \\& Sir Neville Marriner                                     \\\\\n",
       "\t Academy of St. Martin in the Fields, Sir Neville Marriner \\& Thurston Dart         \\\\\n",
       "\t Les Arts Florissants \\& William Christie                                           \\\\\n",
       "\t The 12 Cellists of The Berlin Philharmonic                                        \\\\\n",
       "\t Adrian Leaper \\& Doreen de Feis                                                    \\\\\n",
       "\t Roger Norrington, London Classical Players                                        \\\\\n",
       "\t Charles Dutoit \\& L'Orchestre Symphonique de Montréal                              \\\\\n",
       "\t Equale Brass Ensemble, John Eliot Gardiner \\& Munich Monteverdi Orchestra and Choir\\\\\n",
       "\t Kent Nagano and Orchestre de l'Opéra de Lyon                                      \\\\\n",
       "\t Julian Bream                                                                      \\\\\n",
       "\t Martin Roscoe                                                                     \\\\\n",
       "\t Göteborgs Symfoniker \\& Neeme Järvi                                                \\\\\n",
       "\t Itzhak Perlman                                                                    \\\\\n",
       "\t Michele Campanella                                                                \\\\\n",
       "\t Gerald Moore                                                                      \\\\\n",
       "\t Mela Tenenbaum, Pro Musica Prague \\& Richard Kapp                                  \\\\\n",
       "\t Emerson String Quartet                                                            \\\\\n",
       "\t C. Monteverdi, Nigel Rogers - Chiaroscuro; London Baroque; London Cornett \\& Sackbu\\\\\n",
       "\t Nash Ensemble                                                                     \\\\\n",
       "\t Philip Glass Ensemble                                                             \\\\\n",
       "\\end{tabular}\n"
      ],
      "text/markdown": [
       "\n",
       "A data.frame: 275 × 1\n",
       "\n",
       "| Name &lt;chr&gt; |\n",
       "|---|\n",
       "| AC/DC                           |\n",
       "| Accept                          |\n",
       "| Aerosmith                       |\n",
       "| Alanis Morissette               |\n",
       "| Alice In Chains                 |\n",
       "| Antônio Carlos Jobim            |\n",
       "| Apocalyptica                    |\n",
       "| Audioslave                      |\n",
       "| BackBeat                        |\n",
       "| Billy Cobham                    |\n",
       "| Black Label Society             |\n",
       "| Black Sabbath                   |\n",
       "| Body Count                      |\n",
       "| Bruce Dickinson                 |\n",
       "| Buddy Guy                       |\n",
       "| Caetano Veloso                  |\n",
       "| Chico Buarque                   |\n",
       "| Chico Science &amp; Nação Zumbi     |\n",
       "| Cidade Negra                    |\n",
       "| Cláudio Zoli                    |\n",
       "| Various Artists                 |\n",
       "| Led Zeppelin                    |\n",
       "| Frank Zappa &amp; Captain Beefheart |\n",
       "| Marcos Valle                    |\n",
       "| Milton Nascimento &amp; Bebeto      |\n",
       "| Azymuth                         |\n",
       "| Gilberto Gil                    |\n",
       "| João Gilberto                   |\n",
       "| Bebel Gilberto                  |\n",
       "| Jorge Vercilo                   |\n",
       "| ... |\n",
       "| Chor der Wiener Staatsoper, Herbert Von Karajan &amp; Wiener Philharmoniker            |\n",
       "| The King's Singers                                                                 |\n",
       "| Berliner Philharmoniker &amp; Herbert Von Karajan                                      |\n",
       "| Sir Georg Solti, Sumi Jo &amp; Wiener Philharmoniker                                   |\n",
       "| Christopher O'Riley                                                                |\n",
       "| Fretwork                                                                           |\n",
       "| Amy Winehouse                                                                      |\n",
       "| Calexico                                                                           |\n",
       "| Otto Klemperer &amp; Philharmonia Orchestra                                            |\n",
       "| Yehudi Menuhin                                                                     |\n",
       "| Philharmonia Orchestra &amp; Sir Neville Marriner                                      |\n",
       "| Academy of St. Martin in the Fields, Sir Neville Marriner &amp; Thurston Dart          |\n",
       "| Les Arts Florissants &amp; William Christie                                            |\n",
       "| The 12 Cellists of The Berlin Philharmonic                                         |\n",
       "| Adrian Leaper &amp; Doreen de Feis                                                     |\n",
       "| Roger Norrington, London Classical Players                                         |\n",
       "| Charles Dutoit &amp; L'Orchestre Symphonique de Montréal                               |\n",
       "| Equale Brass Ensemble, John Eliot Gardiner &amp; Munich Monteverdi Orchestra and Choir |\n",
       "| Kent Nagano and Orchestre de l'Opéra de Lyon                                       |\n",
       "| Julian Bream                                                                       |\n",
       "| Martin Roscoe                                                                      |\n",
       "| Göteborgs Symfoniker &amp; Neeme Järvi                                                 |\n",
       "| Itzhak Perlman                                                                     |\n",
       "| Michele Campanella                                                                 |\n",
       "| Gerald Moore                                                                       |\n",
       "| Mela Tenenbaum, Pro Musica Prague &amp; Richard Kapp                                   |\n",
       "| Emerson String Quartet                                                             |\n",
       "| C. Monteverdi, Nigel Rogers - Chiaroscuro; London Baroque; London Cornett &amp; Sackbu |\n",
       "| Nash Ensemble                                                                      |\n",
       "| Philip Glass Ensemble                                                              |\n",
       "\n"
      ],
      "text/plain": [
       "    Name                                                                              \n",
       "1   AC/DC                                                                             \n",
       "2   Accept                                                                            \n",
       "3   Aerosmith                                                                         \n",
       "4   Alanis Morissette                                                                 \n",
       "5   Alice In Chains                                                                   \n",
       "6   Antônio Carlos Jobim                                                              \n",
       "7   Apocalyptica                                                                      \n",
       "8   Audioslave                                                                        \n",
       "9   BackBeat                                                                          \n",
       "10  Billy Cobham                                                                      \n",
       "11  Black Label Society                                                               \n",
       "12  Black Sabbath                                                                     \n",
       "13  Body Count                                                                        \n",
       "14  Bruce Dickinson                                                                   \n",
       "15  Buddy Guy                                                                         \n",
       "16  Caetano Veloso                                                                    \n",
       "17  Chico Buarque                                                                     \n",
       "18  Chico Science & Nação Zumbi                                                       \n",
       "19  Cidade Negra                                                                      \n",
       "20  Cláudio Zoli                                                                      \n",
       "21  Various Artists                                                                   \n",
       "22  Led Zeppelin                                                                      \n",
       "23  Frank Zappa & Captain Beefheart                                                   \n",
       "24  Marcos Valle                                                                      \n",
       "25  Milton Nascimento & Bebeto                                                        \n",
       "26  Azymuth                                                                           \n",
       "27  Gilberto Gil                                                                      \n",
       "28  João Gilberto                                                                     \n",
       "29  Bebel Gilberto                                                                    \n",
       "30  Jorge Vercilo                                                                     \n",
       "... ...                                                                               \n",
       "246 Chor der Wiener Staatsoper, Herbert Von Karajan & Wiener Philharmoniker           \n",
       "247 The King's Singers                                                                \n",
       "248 Berliner Philharmoniker & Herbert Von Karajan                                     \n",
       "249 Sir Georg Solti, Sumi Jo & Wiener Philharmoniker                                  \n",
       "250 Christopher O'Riley                                                               \n",
       "251 Fretwork                                                                          \n",
       "252 Amy Winehouse                                                                     \n",
       "253 Calexico                                                                          \n",
       "254 Otto Klemperer & Philharmonia Orchestra                                           \n",
       "255 Yehudi Menuhin                                                                    \n",
       "256 Philharmonia Orchestra & Sir Neville Marriner                                     \n",
       "257 Academy of St. Martin in the Fields, Sir Neville Marriner & Thurston Dart         \n",
       "258 Les Arts Florissants & William Christie                                           \n",
       "259 The 12 Cellists of The Berlin Philharmonic                                        \n",
       "260 Adrian Leaper & Doreen de Feis                                                    \n",
       "261 Roger Norrington, London Classical Players                                        \n",
       "262 Charles Dutoit & L'Orchestre Symphonique de Montréal                              \n",
       "263 Equale Brass Ensemble, John Eliot Gardiner & Munich Monteverdi Orchestra and Choir\n",
       "264 Kent Nagano and Orchestre de l'Opéra de Lyon                                      \n",
       "265 Julian Bream                                                                      \n",
       "266 Martin Roscoe                                                                     \n",
       "267 Göteborgs Symfoniker & Neeme Järvi                                                \n",
       "268 Itzhak Perlman                                                                    \n",
       "269 Michele Campanella                                                                \n",
       "270 Gerald Moore                                                                      \n",
       "271 Mela Tenenbaum, Pro Musica Prague & Richard Kapp                                  \n",
       "272 Emerson String Quartet                                                            \n",
       "273 C. Monteverdi, Nigel Rogers - Chiaroscuro; London Baroque; London Cornett & Sackbu\n",
       "274 Nash Ensemble                                                                     \n",
       "275 Philip Glass Ensemble                                                             "
      ]
     },
     "metadata": {},
     "output_type": "display_data"
    }
   ],
   "source": [
    "sqldf(\"Select Name from artists\")"
   ]
  },
  {
   "cell_type": "markdown",
   "metadata": {},
   "source": [
    "## List out all the countries where the customer resides and plot a bar graph showing the number of customers from the respective country"
   ]
  },
  {
   "cell_type": "code",
   "execution_count": 23,
   "metadata": {},
   "outputs": [
    {
     "data": {
      "image/png": "[encoded data removed]",
      "text/plain": [
       "plot without title"
      ]
     },
     "metadata": {
      "image/png": {
       "height": 420,
       "width": 420
      }
     },
     "output_type": "display_data"
    }
   ],
   "source": [
    "cc=sqldf(\"Select Country,COUNT(Country) from customers GROUP BY Country \")\n",
    "\n",
    "barplot(cc$`COUNT(Country)`, names.arg =cc$Country )"
   ]
  }
 ],
 "metadata": {
  "kernelspec": {
   "display_name": "Python 3",
   "language": "python",
   "name": "python3"
  },
  "language_info": {
   "codemirror_mode": {
    "name": "ipython",
    "version": 3
   },
   "file_extension": ".py",
   "mimetype": "text/x-python",
   "name": "python",
   "nbconvert_exporter": "python",
   "pygments_lexer": "ipython3",
   "version": "3.8.5"
  }
 },
 "nbformat": 4,
 "nbformat_minor": 5
}
